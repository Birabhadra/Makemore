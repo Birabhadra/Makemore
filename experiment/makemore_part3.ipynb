{
 "cells": [
  {
   "cell_type": "markdown",
   "id": "5bf67d1a",
   "metadata": {},
   "source": [
    "###Problems encounter and solved\n",
    "\n",
    "1. initially there is very high loss that means the nn is confidently   very wrong so we corrected that by multiplying 0 to b2 and a small number(0.001) to w2\n",
    "\n",
    "\n",
    "2. Value of h\n",
    "    tanh is very very active the preactivation takes a broad range, maximum values are squashed into eithr -1 or 1  which is not good for our NN\n",
    "    if this happens maximum no of neurons will never get activated.\n",
    "    to solve this we multiply b1 and w1 with small numbers like(0.01)\n",
    "\n",
    "3. Batch normalization\n",
    "    used to train large neural networks\n",
    "    if you want the hpreact to be roughly gaussian why not take the hidden states and normalize them to be gaussian \n",
    "    we will add bngain and bnbias to the hpreact to normalise them\n",
    "\n",
    "\n",
    "    When you are using batch noralization layer then biases have no role in the calculations so you do not use the bais to prevent unnecessary calculations because it doesn't have any significance"
   ]
  },
  {
   "cell_type": "code",
   "execution_count": 1,
   "id": "44ae7bbb",
   "metadata": {},
   "outputs": [],
   "source": [
    "import torch \n",
    "import torch.nn.functional as F\n",
    "import matplotlib.pyplot as plt\n",
    "%matplotlib inline"
   ]
  },
  {
   "cell_type": "code",
   "execution_count": 2,
   "id": "d121d871",
   "metadata": {},
   "outputs": [
    {
     "data": {
      "text/plain": [
       "['emma',\n",
       " 'olivia',\n",
       " 'ava',\n",
       " 'isabella',\n",
       " 'sophia',\n",
       " 'charlotte',\n",
       " 'mia',\n",
       " 'amelia',\n",
       " 'harper',\n",
       " 'evelyn']"
      ]
     },
     "execution_count": 2,
     "metadata": {},
     "output_type": "execute_result"
    }
   ],
   "source": [
    "words=open('names.txt','r').read().splitlines()\n",
    "words[:10]"
   ]
  },
  {
   "cell_type": "code",
   "execution_count": 3,
   "id": "723ecdd0",
   "metadata": {},
   "outputs": [
    {
     "data": {
      "text/plain": [
       "32033"
      ]
     },
     "execution_count": 3,
     "metadata": {},
     "output_type": "execute_result"
    }
   ],
   "source": [
    "len(words)\n"
   ]
  },
  {
   "cell_type": "code",
   "execution_count": 4,
   "id": "d0dd546b",
   "metadata": {},
   "outputs": [
    {
     "data": {
      "text/plain": [
       "{'a': 1,\n",
       " 'b': 2,\n",
       " 'c': 3,\n",
       " 'd': 4,\n",
       " 'e': 5,\n",
       " 'f': 6,\n",
       " 'g': 7,\n",
       " 'h': 8,\n",
       " 'i': 9,\n",
       " 'j': 10,\n",
       " 'k': 11,\n",
       " 'l': 12,\n",
       " 'm': 13,\n",
       " 'n': 14,\n",
       " 'o': 15,\n",
       " 'p': 16,\n",
       " 'q': 17,\n",
       " 'r': 18,\n",
       " 's': 19,\n",
       " 't': 20,\n",
       " 'u': 21,\n",
       " 'v': 22,\n",
       " 'w': 23,\n",
       " 'x': 24,\n",
       " 'y': 25,\n",
       " 'z': 26,\n",
       " '.': 0}"
      ]
     },
     "execution_count": 4,
     "metadata": {},
     "output_type": "execute_result"
    }
   ],
   "source": [
    "chars=sorted(list(set(''.join(words))))\n",
    "stoi={s:i+1 for i,s in enumerate(chars)}\n",
    "stoi['.']=0\n",
    "itos={i:s for s,i in stoi.items()}\n",
    "vocab_size=len(itos)\n",
    "stoi"
   ]
  },
  {
   "cell_type": "code",
   "execution_count": 51,
   "id": "fa37dc93",
   "metadata": {},
   "outputs": [
    {
     "name": "stdout",
     "output_type": "stream",
     "text": [
      "torch.Size([182580, 3]) torch.Size([182580])\n",
      "torch.Size([22767, 3]) torch.Size([22767])\n",
      "torch.Size([22799, 3]) torch.Size([22799])\n"
     ]
    }
   ],
   "source": [
    "#Build the dataset\n",
    "block_size=3\n",
    "def build_dataset(words):\n",
    "    X,Y=[],[]\n",
    "    for w in words:\n",
    "\n",
    "        context = [0]*block_size\n",
    "        for ch in w +'.':\n",
    "            ix=stoi[ch]\n",
    "            X.append(context)\n",
    "            Y.append(ix)\n",
    "            context = context[1:]+[ix]\n",
    "\n",
    "    X=torch.tensor(X)\n",
    "    Y=torch.tensor(Y)\n",
    "    print(X.shape,Y.shape)\n",
    "    return X,Y\n",
    "\n",
    "import random\n",
    "random.seed(42)\n",
    "random.shuffle(words)\n",
    "n1=int(0.8*len(words))\n",
    "n2=int(0.9*len(words))\n",
    "\n",
    "Xtr,Ytr=build_dataset(words[:n1])\n",
    "Xdev,Ydev=build_dataset(words[n1:n2])\n",
    "Xte,Yte=build_dataset(words[n2:])\n"
   ]
  },
  {
   "cell_type": "code",
   "execution_count": null,
   "id": "cce6c687",
   "metadata": {},
   "outputs": [
    {
     "name": "stdout",
     "output_type": "stream",
     "text": [
      "11897\n"
     ]
    }
   ],
   "source": [
    "#MLP revisited\n",
    "n_embd=10\n",
    "n_hidden=200\n",
    "g=torch.Generator().manual_seed(2147483647)\n",
    "C=torch.randn((vocab_size,n_embd),generator=g)\n",
    "W1=torch.randn((n_embd*block_size,n_hidden),generator=g)*(5/3)/((n_embd *block_size)**0.5)\n",
    "# b1=torch.randn((n_hidden),generator=g)*0.01\n",
    "W2=torch.randn((n_hidden,vocab_size),generator=g)*0.01\n",
    "b2=torch.randn((vocab_size),generator=g)*0\n",
    "\n",
    "bngain = torch.ones((1,n_hidden))\n",
    "bnbias = torch.zeros((1,n_hidden))\n",
    "bnmean_running=torch.ones((1,n_hidden))\n",
    "bnstd_running=torch.ones((1,n_hidden))\n",
    "parameters=[C,W1,b1,W2,b2]\n",
    "\n",
    "print(sum(p.nelement() for p in parameters))\n",
    "for p in parameters:\n",
    "    p.requires_grad=True\n",
    "    "
   ]
  },
  {
   "cell_type": "code",
   "execution_count": 104,
   "id": "f51208c4",
   "metadata": {},
   "outputs": [
    {
     "data": {
      "text/plain": [
       "(torch.Size([1, 200]), torch.Size([1, 200]))"
      ]
     },
     "execution_count": 104,
     "metadata": {},
     "output_type": "execute_result"
    }
   ],
   "source": [
    "hpreact.mean(0,keepdims=True).shape,hpreact.std(0,keepdims=True).shape"
   ]
  },
  {
   "cell_type": "code",
   "execution_count": null,
   "id": "e297598d",
   "metadata": {},
   "outputs": [
    {
     "name": "stdout",
     "output_type": "stream",
     "text": [
      "      0/ 200000: 3.3014\n"
     ]
    }
   ],
   "source": [
    "max_steps=200000\n",
    "batch_size=32\n",
    "lossi=[]\n",
    "\n",
    "for i in range(max_steps):\n",
    "    #Minibatch generator\n",
    "    ix = torch.randint(0,Xtr.shape[0],(batch_size,),generator=g)\n",
    "    Xb,Yb=Xtr[ix],Ytr[ix]\n",
    "\n",
    "    #Forward pass\n",
    "    emb=C[Xb]\n",
    "    embcat=emb.view(emb.shape[0],-1)\n",
    "    hpreact=embcat@W1 #+b1\n",
    "    bnmeani=hpreact.mean(0,keepdims=True)\n",
    "    bnstdi=hpreact.std(0,keepdims=True)\n",
    "    hpreact=bngain * (hpreact-bnmeani) / (bnstdi) + bnbias\n",
    "\n",
    "    with torch.no_grad():\n",
    "        bnmean_running=0.999*bnmean_running + 0.001*bnmeani\n",
    "        bnstd_running = 0.999*bnstd_running + 0.001*bnstdi\n",
    "\n",
    "    h=torch.tanh(hpreact)\n",
    "    logits=h@W2+b2\n",
    "    loss= F.cross_entropy(logits,Ytr[ix])\n",
    "\n",
    "    #Backward pass\n",
    "    for p in parameters:\n",
    "        p.grad=None\n",
    "    loss.backward()\n",
    "\n",
    "    #Update\n",
    "    lr = 0.01 if i < 100000 else 0.01\n",
    "    for p in parameters:\n",
    "        p.data += -lr * p.grad\n",
    "\n",
    "    #track stats\n",
    "    if i%10000==0:\n",
    "        print(f'{i:7d}/{max_steps:7d}: {loss.item():.4f}')\n",
    "    lossi.append(loss.log10().item())\n",
    "    break\n",
    "\n"
   ]
  },
  {
   "cell_type": "code",
   "execution_count": null,
   "id": "47d369f2",
   "metadata": {},
   "outputs": [],
   "source": []
  },
  {
   "cell_type": "code",
   "execution_count": 86,
   "id": "59973966",
   "metadata": {},
   "outputs": [
    {
     "name": "stdout",
     "output_type": "stream",
     "text": [
      "tensor(0.0113) tensor(1.0017)\n",
      "tensor(0.0146) tensor(3.2411)\n"
     ]
    },
    {
     "data": {
      "text/plain": [
       "(array([6.62695643e-06, 0.00000000e+00, 6.62695643e-06, 0.00000000e+00,\n",
       "        1.32539129e-05, 1.32539129e-05, 3.31347822e-05, 3.31347822e-05,\n",
       "        7.95234772e-05, 1.06031303e-04, 4.24125212e-04, 5.63291297e-04,\n",
       "        9.87416508e-04, 1.62360433e-03, 2.77006779e-03, 4.73827385e-03,\n",
       "        7.02457382e-03, 1.11134059e-02, 1.74090145e-02, 2.62692553e-02,\n",
       "        3.67464734e-02, 5.18956958e-02, 7.02788730e-02, 9.00735918e-02,\n",
       "        1.08801371e-01, 1.23446944e-01, 1.32658414e-01, 1.29391324e-01,\n",
       "        1.19550294e-01, 1.01823186e-01, 8.23266797e-02, 6.41754461e-02,\n",
       "        4.62362750e-02, 3.26907761e-02, 2.20545110e-02, 1.47781128e-02,\n",
       "        9.53619030e-03, 5.92449905e-03, 3.89665038e-03, 2.33931562e-03,\n",
       "        1.49769215e-03, 7.68726946e-04, 5.23529558e-04, 3.90990429e-04,\n",
       "        1.65673911e-04, 6.62695643e-05, 5.30156515e-05, 5.30156515e-05,\n",
       "        1.32539129e-05, 1.98808693e-05]),\n",
       " array([-20.22126961, -19.46677544, -18.71228127, -17.95778709,\n",
       "        -17.20329292, -16.44879875, -15.69430458, -14.93981041,\n",
       "        -14.18531624, -13.43082207, -12.6763279 , -11.92183372,\n",
       "        -11.16733955, -10.41284538,  -9.65835121,  -8.90385704,\n",
       "         -8.14936287,  -7.3948687 ,  -6.64037453,  -5.88588036,\n",
       "         -5.13138618,  -4.37689201,  -3.62239784,  -2.86790367,\n",
       "         -2.1134095 ,  -1.35891533,  -0.60442116,   0.15007301,\n",
       "          0.90456718,   1.65906136,   2.41355553,   3.1680497 ,\n",
       "          3.92254387,   4.67703804,   5.43153221,   6.18602638,\n",
       "          6.94052055,   7.69501472,   8.4495089 ,   9.20400307,\n",
       "          9.95849724,  10.71299141,  11.46748558,  12.22197975,\n",
       "         12.97647392,  13.73096809,  14.48546227,  15.23995644,\n",
       "         15.99445061,  16.74894478,  17.50343895]),\n",
       " <BarContainer object of 50 artists>)"
      ]
     },
     "execution_count": 86,
     "metadata": {},
     "output_type": "execute_result"
    },
    {
     "data": {
      "image/png": "[encoded data removed]",
      "text/plain": [
       "<Figure size 2000x500 with 2 Axes>"
      ]
     },
     "metadata": {},
     "output_type": "display_data"
    }
   ],
   "source": [
    "#How to get the values which we multiplied with weights and biases\n",
    "x=torch.randn(1000,10)\n",
    "w=torch.randn(10,200)\n",
    "y= x @ w\n",
    "print(x.mean(),x.std())\n",
    "print(y.mean(),y.std())\n",
    "plt.figure(figsize=(20,5))\n",
    "plt.subplot(121)\n",
    "plt.hist(x.view(-1).tolist(),50,density=True)\n",
    "plt.subplot(122)\n",
    "plt.hist(y.view(-1).tolist(),50,density=True)"
   ]
  },
  {
   "cell_type": "code",
   "execution_count": 80,
   "id": "fdce89b2",
   "metadata": {},
   "outputs": [
    {
     "data": {
      "text/plain": [
       "<matplotlib.image.AxesImage at 0x2498c5a0690>"
      ]
     },
     "execution_count": 80,
     "metadata": {},
     "output_type": "execute_result"
    },
    {
     "data": {
      "image/png": "[encoded data removed]",
      "text/plain": [
       "<Figure size 2000x1000 with 1 Axes>"
      ]
     },
     "metadata": {},
     "output_type": "display_data"
    }
   ],
   "source": [
    "plt.figure(figsize=(20,10))\n",
    "plt.imshow(h.abs()>0.99,cmap='gray',interpolation='nearest')"
   ]
  },
  {
   "cell_type": "code",
   "execution_count": 91,
   "id": "14356a39",
   "metadata": {},
   "outputs": [
    {
     "data": {
      "text/plain": [
       "(array([1010.,  315.,  201.,  164.,  127.,  136.,  144.,   91.,   86.,\n",
       "          90.,   77.,   58.,   88.,   60.,   57.,   45.,   58.,   47.,\n",
       "          56.,   49.,   39.,   42.,   39.,   52.,   45.,   51.,   51.,\n",
       "          46.,   43.,   35.,   35.,   40.,   57.,   71.,   53.,   68.,\n",
       "          59.,   53.,   66.,   68.,  100.,   80.,  122.,  106.,  108.,\n",
       "         122.,  181.,  189.,  302., 1118.]),\n",
       " array([-9.99999166e-01, -9.59999187e-01, -9.19999208e-01, -8.79999230e-01,\n",
       "        -8.39999251e-01, -7.99999273e-01, -7.59999294e-01, -7.19999316e-01,\n",
       "        -6.79999337e-01, -6.39999359e-01, -5.99999380e-01, -5.59999402e-01,\n",
       "        -5.19999423e-01, -4.79999444e-01, -4.39999466e-01, -3.99999487e-01,\n",
       "        -3.59999509e-01, -3.19999530e-01, -2.79999552e-01, -2.39999573e-01,\n",
       "        -1.99999595e-01, -1.59999616e-01, -1.19999638e-01, -7.99996591e-02,\n",
       "        -3.99996805e-02,  2.98023224e-07,  4.00002766e-02,  8.00002551e-02,\n",
       "         1.20000234e-01,  1.60000212e-01,  2.00000191e-01,  2.40000169e-01,\n",
       "         2.80000148e-01,  3.20000126e-01,  3.60000105e-01,  4.00000083e-01,\n",
       "         4.40000062e-01,  4.80000041e-01,  5.20000019e-01,  5.59999998e-01,\n",
       "         5.99999976e-01,  6.39999955e-01,  6.79999933e-01,  7.19999912e-01,\n",
       "         7.59999890e-01,  7.99999869e-01,  8.39999847e-01,  8.79999826e-01,\n",
       "         9.19999804e-01,  9.59999783e-01,  9.99999762e-01]),\n",
       " <BarContainer object of 50 artists>)"
      ]
     },
     "execution_count": 91,
     "metadata": {},
     "output_type": "execute_result"
    },
    {
     "data": {
      "image/png": "[encoded data removed]",
      "text/plain": [
       "<Figure size 640x480 with 1 Axes>"
      ]
     },
     "metadata": {},
     "output_type": "display_data"
    }
   ],
   "source": [
    "plt.hist(h.view(-1).tolist(),50)"
   ]
  },
  {
   "cell_type": "code",
   "execution_count": 82,
   "id": "8346702d",
   "metadata": {},
   "outputs": [
    {
     "data": {
      "image/png": "[encoded data removed]",
      "text/plain": [
       "<Figure size 640x480 with 1 Axes>"
      ]
     },
     "metadata": {},
     "output_type": "display_data"
    }
   ],
   "source": [
    "plt.hist(hpreact.view(-1).tolist(),50);"
   ]
  },
  {
   "cell_type": "code",
   "execution_count": 83,
   "id": "4aa44005",
   "metadata": {},
   "outputs": [
    {
     "data": {
      "text/plain": [
       "[<matplotlib.lines.Line2D at 0x2498c9d2710>]"
      ]
     },
     "execution_count": 83,
     "metadata": {},
     "output_type": "execute_result"
    },
    {
     "data": {
      "image/png": "[encoded data removed]",
      "text/plain": [
       "<Figure size 640x480 with 1 Axes>"
      ]
     },
     "metadata": {},
     "output_type": "display_data"
    }
   ],
   "source": [
    "plt.plot(lossi)"
   ]
  },
  {
   "cell_type": "code",
   "execution_count": null,
   "id": "bf57bbf7",
   "metadata": {},
   "outputs": [],
   "source": [
    "#calibrate the batch norm at the end of training\n",
    "\n",
    "# with torch.no_grad():\n",
    "#     #pass the training set through\n",
    "#     emb = C[Xtr]\n",
    "#     embcat=emb.view(emb.shape[0],-1)\n",
    "#     hpreact=embcat@W1+b1\n",
    "#     bnmean=hpreact.mean(0,keepdim=True)\n",
    "#     bnstd=hpreact.std(0,keepdim=True)\n",
    "\n",
    "\n",
    "\n",
    "### WE have skipped this step by using bnstd running and bnmean running the the above loop so  that we donot have to terate it all over once again "
   ]
  },
  {
   "cell_type": "code",
   "execution_count": null,
   "id": "bc2025f7",
   "metadata": {},
   "outputs": [
    {
     "name": "stdout",
     "output_type": "stream",
     "text": [
      "train 3.302076816558838\n",
      "dev 3.3025074005126953\n"
     ]
    }
   ],
   "source": [
    "@torch.no_grad()\n",
    "def split_loss(split):\n",
    "    x,y={\n",
    "        'train': (Xtr, Ytr),\n",
    "        'dev': (Xdev, Ydev),\n",
    "        'test': (Xte, Yte)\n",
    "    }[split]\n",
    "    emb = C[x]\n",
    "    embcat=emb.view(emb.shape[0],-1)\n",
    "    hpreact= embcat@W1 + b1\n",
    "    hpreact=bngain * (hpreact-bnmean_running) / bnstd_running + bnbias\n",
    "    h = torch.tanh(hpreact)\n",
    "    logits = h@W2 + b2\n",
    "    loss = F.cross_entropy(logits, y)\n",
    "    print(split,loss.item())\n",
    "\n",
    "split_loss('train')\n",
    "split_loss('dev')\n",
    "\n"
   ]
  },
  {
   "cell_type": "code",
   "execution_count": 97,
   "id": "f21b7409",
   "metadata": {},
   "outputs": [
    {
     "name": "stdout",
     "output_type": "stream",
     "text": [
      "cbrpzhxqtbfhqvkfkwmrpxqthtykhkcaqskejrzhnbnfqpwsyhc.\n",
      "vgqhiunrzmuqptcmziivduxlhggphhbmgpoindqbqjtzsrlivwa.\n",
      "vvdbquwqzthogdjaryxixfkqeupiusdbwed.\n",
      "ecoiatgtlffhysflquhpqgmovdjhksyjrpmqqosozswjcojqmwyojsfrenqkpfsadlnuo.\n",
      "zoebsrkoiyzhrynhg.\n",
      "opklhynrxyh.\n",
      "xqioloqbplbvbbdn.\n",
      "ipyqmuitjpbvfpzpddgpycsislqwkkmconzauqnljydpk.\n",
      "kvweskatikzamdtevl.\n",
      "ky.\n",
      "qdyctoorowooktbymouokfbfcw.\n",
      "zoindzcs.\n",
      "nu.\n",
      "eoaignqqerosci.\n",
      "icfzykbadyieluglconwzyzdjokhnlkjjqsxmuadltjhvtoyaplwuw.\n",
      "xisxwrmfv.\n",
      "qphtzbiuzzsrvgmknbfyntiysfgdgkgmmj.\n",
      "pqgcrvdhpvdafpsdvkhzkxkidtvoscvupgawjmjqjwgvhflwkewtxarclxdytlvhgqllyuil.\n",
      "hhza.\n",
      "gfcmkjpoubjbiygh.\n"
     ]
    }
   ],
   "source": [
    "# sample from the model\n",
    "g = torch.Generator().manual_seed(2147483647 + 10)\n",
    "\n",
    "for _ in range(20):\n",
    "    \n",
    "    out = []\n",
    "    context = [0] * block_size # initialize with all ...\n",
    "    while True:\n",
    "      emb = C[torch.tensor([context])] # (1,block_size,d)\n",
    "      h = torch.tanh(emb.view(1, -1) @ W1 + b1)\n",
    "      logits = h @ W2 + b2\n",
    "      probs = F.softmax(logits, dim=1)\n",
    "      ix = torch.multinomial(probs, num_samples=1, generator=g).item()\n",
    "      context = context[1:] + [ix]\n",
    "      out.append(ix)\n",
    "      if ix == 0:\n",
    "        break\n",
    "    \n",
    "    print(''.join(itos[i] for i in out))"
   ]
  },
  {
   "cell_type": "code",
   "execution_count": 106,
   "id": "8d1c7f68",
   "metadata": {},
   "outputs": [],
   "source": [
    "#_______________________SUMMARY___________________"
   ]
  },
  {
   "cell_type": "code",
   "execution_count": null,
   "id": "54343307",
   "metadata": {},
   "outputs": [],
   "source": [
    "s"
   ]
  }
 ],
 "metadata": {
  "kernelspec": {
   "display_name": "Python 3",
   "language": "python",
   "name": "python3"
  },
  "language_info": {
   "codemirror_mode": {
    "name": "ipython",
    "version": 3
   },
   "file_extension": ".py",
   "mimetype": "text/x-python",
   "name": "python",
   "nbconvert_exporter": "python",
   "pygments_lexer": "ipython3",
   "version": "3.13.4"
  }
 },
 "nbformat": 4,
 "nbformat_minor": 5
}
